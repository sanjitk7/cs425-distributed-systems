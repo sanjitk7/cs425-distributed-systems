{
  "cells": [
    {
      "cell_type": "markdown",
      "metadata": {
        "id": "bWsOaU8V9MOo"
      },
      "source": [
        "Objective: to calculate the latency, which is the time taken by a query between the time it is executed and returns a result."
      ]
    },
    {
      "cell_type": "markdown",
      "metadata": {
        "id": "Q5p6ws0u818L"
      },
      "source": [
        "Methodology:\n",
        "\n",
        "We have 4 classes of queries (Frequent/Infrequent/Never occurs/Regex).\n",
        "\n",
        "Frequent query: `grep -c GET, grep -cv Mozilla`\n",
        "\n",
        "Infrequent query: `grep -c http://thompson-roberts.com/`\n",
        "\n",
        "Never occurs query: `grep -c 123.163.215.36`\n",
        "\n",
        "Regex query: `grep -c G[EI]T`\n",
        "\n",
        "For each query, we execute it 5 times and compute the mean, std deviation etc."
      ]
    },
    {
      "cell_type": "markdown",
      "metadata": {
        "id": "DiLMIta7e6wA"
      },
      "source": [
        "Logs: https://gitlab.engr.illinois.edu/sanjitk3/distributed-grep-system/-/blob/master/grep-client/metrics.log"
      ]
    },
    {
      "cell_type": "code",
      "execution_count": 2,
      "metadata": {
        "id": "N63OxDOTcpR1"
      },
      "outputs": [],
      "source": [
        "import pandas as pd\n",
        "import numpy as np"
      ]
    },
    {
      "cell_type": "code",
      "execution_count": 3,
      "metadata": {
        "colab": {
          "base_uri": "https://localhost:8080/",
          "height": 175
        },
        "id": "DgliU83Acrob",
        "outputId": "e34bcae5-5e7b-4edf-b60a-26b68db47636"
      },
      "outputs": [
        {
          "data": {
            "text/html": [
              "\n",
              "  <div id=\"df-5352fc75-6b1a-4ea2-a0c3-fea075460990\">\n",
              "    <div class=\"colab-df-container\">\n",
              "      <div>\n",
              "<style scoped>\n",
              "    .dataframe tbody tr th:only-of-type {\n",
              "        vertical-align: middle;\n",
              "    }\n",
              "\n",
              "    .dataframe tbody tr th {\n",
              "        vertical-align: top;\n",
              "    }\n",
              "\n",
              "    .dataframe thead th {\n",
              "        text-align: right;\n",
              "    }\n",
              "</style>\n",
              "<table border=\"1\" class=\"dataframe\">\n",
              "  <thead>\n",
              "    <tr style=\"text-align: right;\">\n",
              "      <th></th>\n",
              "      <th>0</th>\n",
              "      <th>1</th>\n",
              "      <th>2</th>\n",
              "      <th>3</th>\n",
              "      <th>4</th>\n",
              "    </tr>\n",
              "  </thead>\n",
              "  <tbody>\n",
              "    <tr>\n",
              "      <th>frequent</th>\n",
              "      <td>1206</td>\n",
              "      <td>1191</td>\n",
              "      <td>1193</td>\n",
              "      <td>1196</td>\n",
              "      <td>1186</td>\n",
              "    </tr>\n",
              "    <tr>\n",
              "      <th>infrequent</th>\n",
              "      <td>1050</td>\n",
              "      <td>1049</td>\n",
              "      <td>1047</td>\n",
              "      <td>1051</td>\n",
              "      <td>1057</td>\n",
              "    </tr>\n",
              "    <tr>\n",
              "      <th>never occurs</th>\n",
              "      <td>1041</td>\n",
              "      <td>1027</td>\n",
              "      <td>1129</td>\n",
              "      <td>1068</td>\n",
              "      <td>1031</td>\n",
              "    </tr>\n",
              "    <tr>\n",
              "      <th>regex</th>\n",
              "      <td>1300</td>\n",
              "      <td>1222</td>\n",
              "      <td>1204</td>\n",
              "      <td>1230</td>\n",
              "      <td>1425</td>\n",
              "    </tr>\n",
              "  </tbody>\n",
              "</table>\n",
              "</div>\n",
              "      <button class=\"colab-df-convert\" onclick=\"convertToInteractive('df-5352fc75-6b1a-4ea2-a0c3-fea075460990')\"\n",
              "              title=\"Convert this dataframe to an interactive table.\"\n",
              "              style=\"display:none;\">\n",
              "        \n",
              "  <svg xmlns=\"http://www.w3.org/2000/svg\" height=\"24px\"viewBox=\"0 0 24 24\"\n",
              "       width=\"24px\">\n",
              "    <path d=\"M0 0h24v24H0V0z\" fill=\"none\"/>\n",
              "    <path d=\"M18.56 5.44l.94 2.06.94-2.06 2.06-.94-2.06-.94-.94-2.06-.94 2.06-2.06.94zm-11 1L8.5 8.5l.94-2.06 2.06-.94-2.06-.94L8.5 2.5l-.94 2.06-2.06.94zm10 10l.94 2.06.94-2.06 2.06-.94-2.06-.94-.94-2.06-.94 2.06-2.06.94z\"/><path d=\"M17.41 7.96l-1.37-1.37c-.4-.4-.92-.59-1.43-.59-.52 0-1.04.2-1.43.59L10.3 9.45l-7.72 7.72c-.78.78-.78 2.05 0 2.83L4 21.41c.39.39.9.59 1.41.59.51 0 1.02-.2 1.41-.59l7.78-7.78 2.81-2.81c.8-.78.8-2.07 0-2.86zM5.41 20L4 18.59l7.72-7.72 1.47 1.35L5.41 20z\"/>\n",
              "  </svg>\n",
              "      </button>\n",
              "      \n",
              "  <style>\n",
              "    .colab-df-container {\n",
              "      display:flex;\n",
              "      flex-wrap:wrap;\n",
              "      gap: 12px;\n",
              "    }\n",
              "\n",
              "    .colab-df-convert {\n",
              "      background-color: #E8F0FE;\n",
              "      border: none;\n",
              "      border-radius: 50%;\n",
              "      cursor: pointer;\n",
              "      display: none;\n",
              "      fill: #1967D2;\n",
              "      height: 32px;\n",
              "      padding: 0 0 0 0;\n",
              "      width: 32px;\n",
              "    }\n",
              "\n",
              "    .colab-df-convert:hover {\n",
              "      background-color: #E2EBFA;\n",
              "      box-shadow: 0px 1px 2px rgba(60, 64, 67, 0.3), 0px 1px 3px 1px rgba(60, 64, 67, 0.15);\n",
              "      fill: #174EA6;\n",
              "    }\n",
              "\n",
              "    [theme=dark] .colab-df-convert {\n",
              "      background-color: #3B4455;\n",
              "      fill: #D2E3FC;\n",
              "    }\n",
              "\n",
              "    [theme=dark] .colab-df-convert:hover {\n",
              "      background-color: #434B5C;\n",
              "      box-shadow: 0px 1px 3px 1px rgba(0, 0, 0, 0.15);\n",
              "      filter: drop-shadow(0px 1px 2px rgba(0, 0, 0, 0.3));\n",
              "      fill: #FFFFFF;\n",
              "    }\n",
              "  </style>\n",
              "\n",
              "      <script>\n",
              "        const buttonEl =\n",
              "          document.querySelector('#df-5352fc75-6b1a-4ea2-a0c3-fea075460990 button.colab-df-convert');\n",
              "        buttonEl.style.display =\n",
              "          google.colab.kernel.accessAllowed ? 'block' : 'none';\n",
              "\n",
              "        async function convertToInteractive(key) {\n",
              "          const element = document.querySelector('#df-5352fc75-6b1a-4ea2-a0c3-fea075460990');\n",
              "          const dataTable =\n",
              "            await google.colab.kernel.invokeFunction('convertToInteractive',\n",
              "                                                     [key], {});\n",
              "          if (!dataTable) return;\n",
              "\n",
              "          const docLinkHtml = 'Like what you see? Visit the ' +\n",
              "            '<a target=\"_blank\" href=https://colab.research.google.com/notebooks/data_table.ipynb>data table notebook</a>'\n",
              "            + ' to learn more about interactive tables.';\n",
              "          element.innerHTML = '';\n",
              "          dataTable['output_type'] = 'display_data';\n",
              "          await google.colab.output.renderOutput(dataTable, element);\n",
              "          const docLink = document.createElement('div');\n",
              "          docLink.innerHTML = docLinkHtml;\n",
              "          element.appendChild(docLink);\n",
              "        }\n",
              "      </script>\n",
              "    </div>\n",
              "  </div>\n",
              "  "
            ],
            "text/plain": [
              "                 0     1     2     3     4\n",
              "frequent      1206  1191  1193  1196  1186\n",
              "infrequent    1050  1049  1047  1051  1057\n",
              "never occurs  1041  1027  1129  1068  1031\n",
              "regex         1300  1222  1204  1230  1425"
            ]
          },
          "execution_count": 3,
          "metadata": {},
          "output_type": "execute_result"
        }
      ],
      "source": [
        "observation_1 = [1206,1050,1041,1300]\n",
        "observation_2 = [1191,1049,1027,1222]\n",
        "observation_3 = [1193,1047,1129,1204]\n",
        "observation_4 = [1196,1051,1068,1230]\n",
        "observation_5 = [1186,1057,1031,1425]\n",
        "\n",
        "df = pd.DataFrame(list(zip(observation_1, observation_2, observation_3, observation_4, observation_5)),\n",
        "               index =[\"frequent\", \"infrequent\", \"never occurs\", \"regex\"])\n",
        "\n",
        "df"
      ]
    },
    {
      "cell_type": "code",
      "execution_count": 5,
      "metadata": {
        "colab": {
          "base_uri": "https://localhost:8080/",
          "height": 206
        },
        "id": "XlL38Tkt_env",
        "outputId": "12719ea6-476b-4964-f691-14b307f2c3cd"
      },
      "outputs": [
        {
          "data": {
            "text/html": [
              "\n",
              "  <div id=\"df-4b578bdd-516c-492d-a87c-bfc2d6f68b6f\">\n",
              "    <div class=\"colab-df-container\">\n",
              "      <div>\n",
              "<style scoped>\n",
              "    .dataframe tbody tr th:only-of-type {\n",
              "        vertical-align: middle;\n",
              "    }\n",
              "\n",
              "    .dataframe tbody tr th {\n",
              "        vertical-align: top;\n",
              "    }\n",
              "\n",
              "    .dataframe thead th {\n",
              "        text-align: right;\n",
              "    }\n",
              "</style>\n",
              "<table border=\"1\" class=\"dataframe\">\n",
              "  <thead>\n",
              "    <tr style=\"text-align: right;\">\n",
              "      <th></th>\n",
              "      <th>frequent</th>\n",
              "      <th>infrequent</th>\n",
              "      <th>never occurs</th>\n",
              "      <th>regex</th>\n",
              "    </tr>\n",
              "  </thead>\n",
              "  <tbody>\n",
              "    <tr>\n",
              "      <th>0</th>\n",
              "      <td>1206</td>\n",
              "      <td>1050</td>\n",
              "      <td>1041</td>\n",
              "      <td>1300</td>\n",
              "    </tr>\n",
              "    <tr>\n",
              "      <th>1</th>\n",
              "      <td>1191</td>\n",
              "      <td>1049</td>\n",
              "      <td>1027</td>\n",
              "      <td>1222</td>\n",
              "    </tr>\n",
              "    <tr>\n",
              "      <th>2</th>\n",
              "      <td>1193</td>\n",
              "      <td>1047</td>\n",
              "      <td>1129</td>\n",
              "      <td>1204</td>\n",
              "    </tr>\n",
              "    <tr>\n",
              "      <th>3</th>\n",
              "      <td>1196</td>\n",
              "      <td>1051</td>\n",
              "      <td>1068</td>\n",
              "      <td>1230</td>\n",
              "    </tr>\n",
              "    <tr>\n",
              "      <th>4</th>\n",
              "      <td>1186</td>\n",
              "      <td>1057</td>\n",
              "      <td>1031</td>\n",
              "      <td>1425</td>\n",
              "    </tr>\n",
              "  </tbody>\n",
              "</table>\n",
              "</div>\n",
              "      <button class=\"colab-df-convert\" onclick=\"convertToInteractive('df-4b578bdd-516c-492d-a87c-bfc2d6f68b6f')\"\n",
              "              title=\"Convert this dataframe to an interactive table.\"\n",
              "              style=\"display:none;\">\n",
              "        \n",
              "  <svg xmlns=\"http://www.w3.org/2000/svg\" height=\"24px\"viewBox=\"0 0 24 24\"\n",
              "       width=\"24px\">\n",
              "    <path d=\"M0 0h24v24H0V0z\" fill=\"none\"/>\n",
              "    <path d=\"M18.56 5.44l.94 2.06.94-2.06 2.06-.94-2.06-.94-.94-2.06-.94 2.06-2.06.94zm-11 1L8.5 8.5l.94-2.06 2.06-.94-2.06-.94L8.5 2.5l-.94 2.06-2.06.94zm10 10l.94 2.06.94-2.06 2.06-.94-2.06-.94-.94-2.06-.94 2.06-2.06.94z\"/><path d=\"M17.41 7.96l-1.37-1.37c-.4-.4-.92-.59-1.43-.59-.52 0-1.04.2-1.43.59L10.3 9.45l-7.72 7.72c-.78.78-.78 2.05 0 2.83L4 21.41c.39.39.9.59 1.41.59.51 0 1.02-.2 1.41-.59l7.78-7.78 2.81-2.81c.8-.78.8-2.07 0-2.86zM5.41 20L4 18.59l7.72-7.72 1.47 1.35L5.41 20z\"/>\n",
              "  </svg>\n",
              "      </button>\n",
              "      \n",
              "  <style>\n",
              "    .colab-df-container {\n",
              "      display:flex;\n",
              "      flex-wrap:wrap;\n",
              "      gap: 12px;\n",
              "    }\n",
              "\n",
              "    .colab-df-convert {\n",
              "      background-color: #E8F0FE;\n",
              "      border: none;\n",
              "      border-radius: 50%;\n",
              "      cursor: pointer;\n",
              "      display: none;\n",
              "      fill: #1967D2;\n",
              "      height: 32px;\n",
              "      padding: 0 0 0 0;\n",
              "      width: 32px;\n",
              "    }\n",
              "\n",
              "    .colab-df-convert:hover {\n",
              "      background-color: #E2EBFA;\n",
              "      box-shadow: 0px 1px 2px rgba(60, 64, 67, 0.3), 0px 1px 3px 1px rgba(60, 64, 67, 0.15);\n",
              "      fill: #174EA6;\n",
              "    }\n",
              "\n",
              "    [theme=dark] .colab-df-convert {\n",
              "      background-color: #3B4455;\n",
              "      fill: #D2E3FC;\n",
              "    }\n",
              "\n",
              "    [theme=dark] .colab-df-convert:hover {\n",
              "      background-color: #434B5C;\n",
              "      box-shadow: 0px 1px 3px 1px rgba(0, 0, 0, 0.15);\n",
              "      filter: drop-shadow(0px 1px 2px rgba(0, 0, 0, 0.3));\n",
              "      fill: #FFFFFF;\n",
              "    }\n",
              "  </style>\n",
              "\n",
              "      <script>\n",
              "        const buttonEl =\n",
              "          document.querySelector('#df-4b578bdd-516c-492d-a87c-bfc2d6f68b6f button.colab-df-convert');\n",
              "        buttonEl.style.display =\n",
              "          google.colab.kernel.accessAllowed ? 'block' : 'none';\n",
              "\n",
              "        async function convertToInteractive(key) {\n",
              "          const element = document.querySelector('#df-4b578bdd-516c-492d-a87c-bfc2d6f68b6f');\n",
              "          const dataTable =\n",
              "            await google.colab.kernel.invokeFunction('convertToInteractive',\n",
              "                                                     [key], {});\n",
              "          if (!dataTable) return;\n",
              "\n",
              "          const docLinkHtml = 'Like what you see? Visit the ' +\n",
              "            '<a target=\"_blank\" href=https://colab.research.google.com/notebooks/data_table.ipynb>data table notebook</a>'\n",
              "            + ' to learn more about interactive tables.';\n",
              "          element.innerHTML = '';\n",
              "          dataTable['output_type'] = 'display_data';\n",
              "          await google.colab.output.renderOutput(dataTable, element);\n",
              "          const docLink = document.createElement('div');\n",
              "          docLink.innerHTML = docLinkHtml;\n",
              "          element.appendChild(docLink);\n",
              "        }\n",
              "      </script>\n",
              "    </div>\n",
              "  </div>\n",
              "  "
            ],
            "text/plain": [
              "   frequent  infrequent  never occurs  regex\n",
              "0      1206        1050          1041   1300\n",
              "1      1191        1049          1027   1222\n",
              "2      1193        1047          1129   1204\n",
              "3      1196        1051          1068   1230\n",
              "4      1186        1057          1031   1425"
            ]
          },
          "execution_count": 5,
          "metadata": {},
          "output_type": "execute_result"
        }
      ],
      "source": [
        "freq = [1206, 1191, 1193, 1196, 1186]\n",
        "infreq = [1050, 1049, 1047, 1051, 1057]\n",
        "never = [1041, 1027, 1129, 1068, 1031]\n",
        "regex = [1300, 1222, 1204, 1230, 1425]\n",
        "\n",
        "df = pd.DataFrame(list(zip(freq, infreq, never, regex)),\n",
        "               columns =[\"frequent\", \"infrequent\", \"never occurs\", \"regex\"])\n",
        "\n",
        "df"
      ]
    },
    {
      "cell_type": "code",
      "execution_count": 15,
      "metadata": {
        "colab": {
          "base_uri": "https://localhost:8080/",
          "height": 352
        },
        "id": "UZTUcSCqvdyb",
        "outputId": "250e2278-0043-4b54-d7cf-95b75e2ac2f6"
      },
      "outputs": [
        {
          "data": {
            "image/png": "[encoded data removed]",
            "text/plain": [
              "<Figure size 432x288 with 1 Axes>"
            ]
          },
          "metadata": {
            "needs_background": "light"
          },
          "output_type": "display_data"
        }
      ],
      "source": [
        "import matplotlib.pyplot as plt\n",
        "fig = plt.figure()\n",
        "ax = fig.add_axes([0,0,1,1])\n",
        "queries = ['query 1', 'query 2', 'query 3', 'query 4', 'query 5']\n",
        "ax.bar(queries,freq)\n",
        "ax.set_ylabel('Query latency (in milliseconds)')\n",
        "ax.set_title('Frequent patterns')\n",
        "plt.show()"
      ]
    },
    {
      "cell_type": "code",
      "execution_count": 27,
      "metadata": {
        "colab": {
          "base_uri": "https://localhost:8080/",
          "height": 352
        },
        "id": "qv9iNt8n0sM4",
        "outputId": "ce2a2a91-4999-40f6-ee8b-f34cdcc437ba"
      },
      "outputs": [
        {
          "data": {
            "image/png": "[encoded data removed]",
            "text/plain": [
              "<Figure size 432x288 with 1 Axes>"
            ]
          },
          "metadata": {
            "needs_background": "light"
          },
          "output_type": "display_data"
        }
      ],
      "source": [
        "import matplotlib.pyplot as plt\n",
        "fig = plt.figure()\n",
        "ax = fig.add_axes([0,0,1,1])\n",
        "queries = ['query 1', 'query 2', 'query 3', 'query 4', 'query 5']\n",
        "ax.bar(queries,infreq)\n",
        "ax.set_ylabel('Query latency (in milliseconds)')\n",
        "ax.set_title('Infrequent patterns')\n",
        "plt.show()"
      ]
    },
    {
      "cell_type": "code",
      "execution_count": 18,
      "metadata": {
        "colab": {
          "base_uri": "https://localhost:8080/",
          "height": 352
        },
        "id": "Ni0MamZv0siG",
        "outputId": "276e4d7b-7e96-4def-f14a-cf538a11b652"
      },
      "outputs": [
        {
          "data": {
            "image/png": "[encoded data removed]",
            "text/plain": [
              "<Figure size 432x288 with 1 Axes>"
            ]
          },
          "metadata": {
            "needs_background": "light"
          },
          "output_type": "display_data"
        }
      ],
      "source": [
        "import matplotlib.pyplot as plt\n",
        "fig = plt.figure()\n",
        "ax = fig.add_axes([0,0,1,1])\n",
        "queries = ['query 1', 'query 2', 'query 3', 'query 4', 'query 5']\n",
        "ax.bar(queries, never)\n",
        "ax.set_ylabel('Query latency (in milliseconds)')\n",
        "ax.set_title('Never occurs patterns')\n",
        "plt.show()"
      ]
    },
    {
      "cell_type": "code",
      "execution_count": 17,
      "metadata": {
        "colab": {
          "base_uri": "https://localhost:8080/",
          "height": 352
        },
        "id": "eZ91csR30szf",
        "outputId": "d72407ec-aef9-41e2-b20f-b9dbd794c02e"
      },
      "outputs": [
        {
          "data": {
            "image/png": "[encoded data removed]",
            "text/plain": [
              "<Figure size 432x288 with 1 Axes>"
            ]
          },
          "metadata": {
            "needs_background": "light"
          },
          "output_type": "display_data"
        }
      ],
      "source": [
        "import matplotlib.pyplot as plt\n",
        "fig = plt.figure()\n",
        "ax = fig.add_axes([0,0,1,1])\n",
        "queries = ['query 1', 'query 2', 'query 3', 'query 4', 'query 5']\n",
        "ax.bar(queries,regex)\n",
        "ax.set_ylabel('Query latency (in milliseconds)')\n",
        "ax.set_title('Regex patterns')\n",
        "plt.show()"
      ]
    },
    {
      "cell_type": "code",
      "execution_count": 19,
      "metadata": {
        "colab": {
          "base_uri": "https://localhost:8080/"
        },
        "id": "rS3Yl4U7dGeq",
        "outputId": "dbab0253-8508-476e-de73-32a4c36ea2a0"
      },
      "outputs": [
        {
          "data": {
            "text/plain": [
              "frequent        1194.4\n",
              "infrequent      1050.8\n",
              "never occurs    1059.2\n",
              "regex           1276.2\n",
              "dtype: float64"
            ]
          },
          "execution_count": 19,
          "metadata": {},
          "output_type": "execute_result"
        }
      ],
      "source": [
        "df.mean()"
      ]
    },
    {
      "cell_type": "code",
      "execution_count": 12,
      "metadata": {
        "colab": {
          "base_uri": "https://localhost:8080/"
        },
        "id": "EH2AaBagdYUD",
        "outputId": "b0cd2c5a-78f0-4f39-c3e5-b72e14fca48d"
      },
      "outputs": [
        {
          "data": {
            "text/plain": [
              "frequent         7.436397\n",
              "infrequent       3.768289\n",
              "never occurs    42.168709\n",
              "regex           90.819601\n",
              "dtype: float64"
            ]
          },
          "execution_count": 12,
          "metadata": {},
          "output_type": "execute_result"
        }
      ],
      "source": [
        "df.std()"
      ]
    },
    {
      "cell_type": "code",
      "execution_count": 13,
      "metadata": {
        "colab": {
          "base_uri": "https://localhost:8080/"
        },
        "id": "sh45iUztdbz5",
        "outputId": "22e61f7d-7cb0-42cb-a5e9-d07130b43f7a"
      },
      "outputs": [
        {
          "data": {
            "text/plain": [
              "frequent        1193.0\n",
              "infrequent      1050.0\n",
              "never occurs    1041.0\n",
              "regex           1230.0\n",
              "dtype: float64"
            ]
          },
          "execution_count": 13,
          "metadata": {},
          "output_type": "execute_result"
        }
      ],
      "source": [
        "df.median()"
      ]
    },
    {
      "cell_type": "code",
      "execution_count": 20,
      "metadata": {
        "colab": {
          "base_uri": "https://localhost:8080/"
        },
        "id": "FjG6ogZvAOmB",
        "outputId": "36382947-c17e-495a-f3f8-a068f12d91b7"
      },
      "outputs": [
        {
          "data": {
            "text/plain": [
              "1145.1499999999999"
            ]
          },
          "execution_count": 20,
          "metadata": {},
          "output_type": "execute_result"
        }
      ],
      "source": [
        "query_latency = (1194.4 + 1050.8 + 1059.2 + 1276.2) / 4\n",
        "query_latency"
      ]
    },
    {
      "cell_type": "code",
      "execution_count": 30,
      "metadata": {
        "colab": {
          "base_uri": "https://localhost:8080/",
          "height": 269
        },
        "id": "fNSPTJQjBIXy",
        "outputId": "8324e0e9-fe1b-4d80-b0be-a5b40c60c14b"
      },
      "outputs": [
        {
          "data": {
            "text/html": [
              "\n",
              "  <div id=\"df-cdd94b2b-8034-4808-a36d-301438830c1f\">\n",
              "    <div class=\"colab-df-container\">\n",
              "      <div>\n",
              "<style scoped>\n",
              "    .dataframe tbody tr th:only-of-type {\n",
              "        vertical-align: middle;\n",
              "    }\n",
              "\n",
              "    .dataframe tbody tr th {\n",
              "        vertical-align: top;\n",
              "    }\n",
              "\n",
              "    .dataframe thead th {\n",
              "        text-align: right;\n",
              "    }\n",
              "</style>\n",
              "<table border=\"1\" class=\"dataframe\">\n",
              "  <thead>\n",
              "    <tr style=\"text-align: right;\">\n",
              "      <th></th>\n",
              "      <th>frequent</th>\n",
              "      <th>infrequent</th>\n",
              "      <th>never occurs</th>\n",
              "      <th>regex</th>\n",
              "    </tr>\n",
              "  </thead>\n",
              "  <tbody>\n",
              "    <tr>\n",
              "      <th>0</th>\n",
              "      <td>1206.00</td>\n",
              "      <td>1050.00</td>\n",
              "      <td>1041.00</td>\n",
              "      <td>1300.00</td>\n",
              "    </tr>\n",
              "    <tr>\n",
              "      <th>1</th>\n",
              "      <td>1191.00</td>\n",
              "      <td>1049.00</td>\n",
              "      <td>1027.00</td>\n",
              "      <td>1222.00</td>\n",
              "    </tr>\n",
              "    <tr>\n",
              "      <th>2</th>\n",
              "      <td>1193.00</td>\n",
              "      <td>1047.00</td>\n",
              "      <td>1129.00</td>\n",
              "      <td>1204.00</td>\n",
              "    </tr>\n",
              "    <tr>\n",
              "      <th>3</th>\n",
              "      <td>1196.00</td>\n",
              "      <td>1051.00</td>\n",
              "      <td>1068.00</td>\n",
              "      <td>1230.00</td>\n",
              "    </tr>\n",
              "    <tr>\n",
              "      <th>4</th>\n",
              "      <td>1186.00</td>\n",
              "      <td>1057.00</td>\n",
              "      <td>1031.00</td>\n",
              "      <td>1425.00</td>\n",
              "    </tr>\n",
              "    <tr>\n",
              "      <th>mean</th>\n",
              "      <td>1194.40</td>\n",
              "      <td>1050.80</td>\n",
              "      <td>1059.20</td>\n",
              "      <td>1276.20</td>\n",
              "    </tr>\n",
              "    <tr>\n",
              "      <th>standard deviation</th>\n",
              "      <td>7.44</td>\n",
              "      <td>3.77</td>\n",
              "      <td>42.17</td>\n",
              "      <td>90.82</td>\n",
              "    </tr>\n",
              "  </tbody>\n",
              "</table>\n",
              "</div>\n",
              "      <button class=\"colab-df-convert\" onclick=\"convertToInteractive('df-cdd94b2b-8034-4808-a36d-301438830c1f')\"\n",
              "              title=\"Convert this dataframe to an interactive table.\"\n",
              "              style=\"display:none;\">\n",
              "        \n",
              "  <svg xmlns=\"http://www.w3.org/2000/svg\" height=\"24px\"viewBox=\"0 0 24 24\"\n",
              "       width=\"24px\">\n",
              "    <path d=\"M0 0h24v24H0V0z\" fill=\"none\"/>\n",
              "    <path d=\"M18.56 5.44l.94 2.06.94-2.06 2.06-.94-2.06-.94-.94-2.06-.94 2.06-2.06.94zm-11 1L8.5 8.5l.94-2.06 2.06-.94-2.06-.94L8.5 2.5l-.94 2.06-2.06.94zm10 10l.94 2.06.94-2.06 2.06-.94-2.06-.94-.94-2.06-.94 2.06-2.06.94z\"/><path d=\"M17.41 7.96l-1.37-1.37c-.4-.4-.92-.59-1.43-.59-.52 0-1.04.2-1.43.59L10.3 9.45l-7.72 7.72c-.78.78-.78 2.05 0 2.83L4 21.41c.39.39.9.59 1.41.59.51 0 1.02-.2 1.41-.59l7.78-7.78 2.81-2.81c.8-.78.8-2.07 0-2.86zM5.41 20L4 18.59l7.72-7.72 1.47 1.35L5.41 20z\"/>\n",
              "  </svg>\n",
              "      </button>\n",
              "      \n",
              "  <style>\n",
              "    .colab-df-container {\n",
              "      display:flex;\n",
              "      flex-wrap:wrap;\n",
              "      gap: 12px;\n",
              "    }\n",
              "\n",
              "    .colab-df-convert {\n",
              "      background-color: #E8F0FE;\n",
              "      border: none;\n",
              "      border-radius: 50%;\n",
              "      cursor: pointer;\n",
              "      display: none;\n",
              "      fill: #1967D2;\n",
              "      height: 32px;\n",
              "      padding: 0 0 0 0;\n",
              "      width: 32px;\n",
              "    }\n",
              "\n",
              "    .colab-df-convert:hover {\n",
              "      background-color: #E2EBFA;\n",
              "      box-shadow: 0px 1px 2px rgba(60, 64, 67, 0.3), 0px 1px 3px 1px rgba(60, 64, 67, 0.15);\n",
              "      fill: #174EA6;\n",
              "    }\n",
              "\n",
              "    [theme=dark] .colab-df-convert {\n",
              "      background-color: #3B4455;\n",
              "      fill: #D2E3FC;\n",
              "    }\n",
              "\n",
              "    [theme=dark] .colab-df-convert:hover {\n",
              "      background-color: #434B5C;\n",
              "      box-shadow: 0px 1px 3px 1px rgba(0, 0, 0, 0.15);\n",
              "      filter: drop-shadow(0px 1px 2px rgba(0, 0, 0, 0.3));\n",
              "      fill: #FFFFFF;\n",
              "    }\n",
              "  </style>\n",
              "\n",
              "      <script>\n",
              "        const buttonEl =\n",
              "          document.querySelector('#df-cdd94b2b-8034-4808-a36d-301438830c1f button.colab-df-convert');\n",
              "        buttonEl.style.display =\n",
              "          google.colab.kernel.accessAllowed ? 'block' : 'none';\n",
              "\n",
              "        async function convertToInteractive(key) {\n",
              "          const element = document.querySelector('#df-cdd94b2b-8034-4808-a36d-301438830c1f');\n",
              "          const dataTable =\n",
              "            await google.colab.kernel.invokeFunction('convertToInteractive',\n",
              "                                                     [key], {});\n",
              "          if (!dataTable) return;\n",
              "\n",
              "          const docLinkHtml = 'Like what you see? Visit the ' +\n",
              "            '<a target=\"_blank\" href=https://colab.research.google.com/notebooks/data_table.ipynb>data table notebook</a>'\n",
              "            + ' to learn more about interactive tables.';\n",
              "          element.innerHTML = '';\n",
              "          dataTable['output_type'] = 'display_data';\n",
              "          await google.colab.output.renderOutput(dataTable, element);\n",
              "          const docLink = document.createElement('div');\n",
              "          docLink.innerHTML = docLinkHtml;\n",
              "          element.appendChild(docLink);\n",
              "        }\n",
              "      </script>\n",
              "    </div>\n",
              "  </div>\n",
              "  "
            ],
            "text/plain": [
              "                    frequent  infrequent  never occurs    regex\n",
              "0                    1206.00     1050.00       1041.00  1300.00\n",
              "1                    1191.00     1049.00       1027.00  1222.00\n",
              "2                    1193.00     1047.00       1129.00  1204.00\n",
              "3                    1196.00     1051.00       1068.00  1230.00\n",
              "4                    1186.00     1057.00       1031.00  1425.00\n",
              "mean                 1194.40     1050.80       1059.20  1276.20\n",
              "standard deviation      7.44        3.77         42.17    90.82"
            ]
          },
          "execution_count": 30,
          "metadata": {},
          "output_type": "execute_result"
        }
      ],
      "source": [
        "freq = [1206, 1191, 1193, 1196, 1186, 1194.4, 7.44]\n",
        "infreq = [1050, 1049, 1047, 1051, 1057, 1050.8, 3.77]\n",
        "never = [1041, 1027, 1129, 1068, 1031, 1059.2, 42.17]\n",
        "regex = [1300, 1222, 1204, 1230, 1425, 1276.2, 90.82]\n",
        "\n",
        "df2 = pd.DataFrame(list(zip(freq, infreq, never, regex)),\n",
        "               columns =[\"frequent\", \"infrequent\", \"never occurs\", \"regex\"], index=['0', '1', '2', '3', '4', 'mean', 'standard deviation'])\n",
        "\n",
        "df2"
      ]
    },
    {
      "cell_type": "code",
      "execution_count": 23,
      "metadata": {
        "colab": {
          "base_uri": "https://localhost:8080/"
        },
        "id": "9wi_WKKYBi3s",
        "outputId": "d1799850-4baf-424d-ea2b-e0b511595001"
      },
      "outputs": [
        {
          "data": {
            "text/plain": [
              "0    1145.15\n",
              "dtype: float64"
            ]
          },
          "execution_count": 23,
          "metadata": {},
          "output_type": "execute_result"
        }
      ],
      "source": [
        "df2.mean()"
      ]
    },
    {
      "cell_type": "code",
      "execution_count": 24,
      "metadata": {
        "colab": {
          "base_uri": "https://localhost:8080/"
        },
        "id": "BFZ9qHO6BjBE",
        "outputId": "64623c68-0724-4604-edd8-dac97fa8cb28"
      },
      "outputs": [
        {
          "data": {
            "text/plain": [
              "0    109.375485\n",
              "dtype: float64"
            ]
          },
          "execution_count": 24,
          "metadata": {},
          "output_type": "execute_result"
        }
      ],
      "source": [
        "df2.std()"
      ]
    },
    {
      "cell_type": "markdown",
      "metadata": {
        "id": "Sad0cfoIAFdx"
      },
      "source": [
        "Conclusion:\n",
        "Mean query latency across different query categories was found to be 1145.15 milliseconds with a standard deviation of 109.37 milliseconds."
      ]
    },
    {
      "cell_type": "markdown",
      "metadata": {
        "id": "eIwXcn49B8M4"
      },
      "source": [
        "Other observations:\n",
        "\n",
        "Compute time was found to be constantly despite scale of machine, while latency increased as the size of the data sent between machines also increased.\n",
        "\n",
        "Below is a scatterplot representing the average query latency for two types of queries (count queries vs line queries). Since line queries returned back huge amounts of text data, the latency observed was much higher."
      ]
    },
    {
      "cell_type": "code",
      "execution_count": null,
      "metadata": {
        "colab": {
          "base_uri": "https://localhost:8080/",
          "height": 313
        },
        "id": "4t4PmDIEdggR",
        "outputId": "7e7b07bc-d545-4b6b-92bb-2efde5d2a90b"
      },
      "outputs": [
        {
          "data": {
            "text/plain": [
              "<matplotlib.legend.Legend at 0x7f3c0e7de210>"
            ]
          },
          "execution_count": 29,
          "metadata": {},
          "output_type": "execute_result"
        },
        {
          "data": {
            "image/png": "[encoded data removed]",
            "text/plain": [
              "<Figure size 432x288 with 1 Axes>"
            ]
          },
          "metadata": {
            "needs_background": "light"
          },
          "output_type": "display_data"
        }
      ],
      "source": [
        "import matplotlib.pyplot as plt\n",
        "\n",
        "queryTime1 = [1492,1413,1249]\n",
        "machineCount1 = [10, 10, 1]\n",
        "queryTime2 = [10593,14637,1491,1285,2406]\n",
        "machineCount2 = [10, 10, 10, 1, 4]\n",
        "\n",
        "ax = plt.axes()\n",
        "\n",
        "ax.scatter(machineCount1, queryTime1, label='Count queries')\n",
        "ax.scatter(machineCount2, queryTime2, label='Line queries')\n",
        "ax.set_title('Query time across machines loads')\n",
        "ax.set_ylabel('Query time in milli seconds')\n",
        "ax.set_xlabel('Machine load count')\n",
        "ax.legend()"
      ]
    },
    {
      "cell_type": "code",
      "execution_count": null,
      "metadata": {
        "id": "dbCzKuWvChzI"
      },
      "outputs": [],
      "source": []
    }
  ],
  "metadata": {
    "colab": {
      "collapsed_sections": [],
      "provenance": []
    },
    "kernelspec": {
      "display_name": "Python 3",
      "name": "python3"
    },
    "language_info": {
      "name": "python"
    }
  },
  "nbformat": 4,
  "nbformat_minor": 0
}
